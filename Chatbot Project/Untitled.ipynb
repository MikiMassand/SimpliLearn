{
 "cells": [
  {
   "cell_type": "code",
   "execution_count": 1,
   "id": "c9f432f7-df1a-4973-bd3f-1ee2d336e618",
   "metadata": {},
   "outputs": [
    {
     "name": "stderr",
     "output_type": "stream",
     "text": [
      "/opt/anaconda3/lib/python3.12/site-packages/starlette/formparsers.py:12: FutureWarning: Please use `import python_multipart` instead.\n",
      "  import multipart\n"
     ]
    }
   ],
   "source": [
    "import gradio as gr\n",
    "import os, re\n",
    "from collections import Counter\n",
    "from llama_index.core import VectorStoreIndex, Document, StorageContext\n",
    "from llama_index.embeddings.openai import OpenAIEmbedding\n",
    "from llama_index.vector_stores.chroma import ChromaVectorStore\n",
    "import chromadb\n",
    "import openai\n",
    "from PyPDF2 import PdfReader\n",
    "import spacy\n",
    "import traceback"
   ]
  },
  {
   "cell_type": "code",
   "execution_count": 3,
   "id": "2c57a127-53f5-486e-9be9-0aec37dd452e",
   "metadata": {},
   "outputs": [],
   "source": [
    "# Initialize OpenAI API key\n",
    "def init_openai(api_key):\n",
    "    openai.api_key = api_key\n",
    "    print(\"OpenAI API key initialized\")\n",
    "\n",
    "# Load and extract text from PDF\n",
    "def load_pdf(pdf_file):\n",
    "    reader = PdfReader(pdf_file)\n",
    "    text = \"\"\n",
    "    for page in reader.pages:\n",
    "        text += page.extract_text()\n",
    "    total_pages = len(reader.pages)\n",
    "    return text, total_pages\n"
   ]
  },
  {
   "cell_type": "code",
   "execution_count": 5,
   "id": "173c7688-c769-45a4-8ca3-7be67086d81e",
   "metadata": {},
   "outputs": [],
   "source": [
    "# Split text into chunks\n",
    "def split_text(text, chunk_size=500):\n",
    "    return [text[i:i + chunk_size] for i in range(0, len(text), chunk_size)]\n",
    "\n",
    "# Build QA system using ChromaDB\n",
    "def build_qa_system(documents):\n",
    "    db = chromadb.PersistentClient(path=\"chroma_store/\")\n",
    "    chroma_collection = db.get_or_create_collection(\"my_chroma_store\")\n",
    "    vector_store = ChromaVectorStore(chroma_collection=chroma_collection)\n",
    "    storage_context = StorageContext.from_defaults(vector_store=vector_store)\n",
    "    index = VectorStoreIndex.from_documents(documents=documents, storage_context=storage_context)\n",
    "    return index\n",
    "\n",
    "# Calculate PDF statistics\n",
    "def calculate_pdf_statistics(text, total_pages):\n",
    "    words = re.findall(r'\\w+', text)\n",
    "    total_words = len(words)\n",
    "    total_characters = len(text)\n",
    "    avg_words_per_page = total_words / total_pages if total_pages > 0 else 0\n",
    "    avg_characters_per_page = total_characters / total_pages if total_pages > 0 else 0\n",
    "    statistics = {\n",
    "        \"Total Pages\": total_pages,\n",
    "        \"Total Words\": total_words,\n",
    "        \"Total Characters\": total_characters,\n",
    "        \"Average Words per Page\": avg_words_per_page,\n",
    "        \"Average Characters per Page\": avg_characters_per_page,\n",
    "    }\n",
    "    return statistics\n",
    "\n",
    "# Recognize entities using spaCy\n",
    "def recognize_entities(text):\n",
    "    nlp = spacy.load(\"en_core_web_sm\")\n",
    "    doc = nlp(text)\n",
    "    entities = [(ent.text, ent.label_) for ent in doc.ents]\n",
    "    return entities\n",
    "\n",
    "# Answer query using the QA system\n",
    "def answer_query(qa_index, query_text):\n",
    "    query_engine = qa_index.as_query_engine()\n",
    "    response = query_engine.query(query_text)\n",
    "    return response.response\n",
    "\n",
    "# Gradio App Logic\n",
    "def process_pdf(pdf_file, api_key):\n",
    "    try:\n",
    "        init_openai(api_key)\n",
    "        text, total_pages = load_pdf(pdf_file)\n",
    "        text_chunks = split_text(text)\n",
    "        documents = [Document(text=chunk) for chunk in text_chunks]\n",
    "        qa_index = build_qa_system(documents)\n",
    "        statistics = calculate_pdf_statistics(text, total_pages)\n",
    "        return qa_index, statistics, text, None\n",
    "    except Exception as e:\n",
    "        error_msg = traceback.format_exc()\n",
    "        return None, None, None, f\"Error processing PDF: {str(e)}\\n{error_msg}\"\n",
    "\n",
    "def query_pdf(qa_index, query_text):\n",
    "    try:\n",
    "        if not qa_index:\n",
    "            return None, \"QA index is not initialized.\"\n",
    "        return answer_query(qa_index, query_text), None\n",
    "    except Exception as e:\n",
    "        error_msg = traceback.format_exc()\n",
    "        return None, f\"Error answering query: {str(e)}\\n{error_msg}\"\n",
    "\n",
    "def main(pdf_file, api_key, query_text, history, seq_num):\n",
    "    try:\n",
    "        qa_index, statistics, extracted_text, process_error = process_pdf(pdf_file, api_key)\n",
    "        if process_error:\n",
    "            return None, None, None, process_error, history, seq_num\n",
    "        \n",
    "        answer, query_error = query_pdf(qa_index, query_text)\n",
    "        entities = recognize_entities(extracted_text) if extracted_text else []\n",
    "        \n",
    "        if not query_error:\n",
    "            history.append(f\"{seq_num}. Q: {query_text}\")\n",
    "            history.append(f\"   A: {answer}\")\n",
    "            history.append(\"\") \n",
    "        \n",
    "        history_display = \"\\n\".join(history)\n",
    "        return statistics, answer, entities, query_error, history_display, seq_num + 1\n",
    "    except Exception as e:\n",
    "        error_msg = traceback.format_exc()\n",
    "        return None, None, None, f\"Error in main process: {str(e)}\\n{error_msg}\", \"\\n\".join(history), seq_num"
   ]
  },
  {
   "cell_type": "code",
   "execution_count": 7,
   "id": "dfc64a6c-7ca3-4c7f-8319-1d8e31d98381",
   "metadata": {},
   "outputs": [
    {
     "name": "stdout",
     "output_type": "stream",
     "text": [
      "* Running on local URL:  http://127.0.0.1:7860\n",
      "\n",
      "To create a public link, set `share=True` in `launch()`.\n"
     ]
    },
    {
     "data": {
      "text/html": [
       "<div><iframe src=\"http://127.0.0.1:7860/\" width=\"100%\" height=\"500\" allow=\"autoplay; camera; microphone; clipboard-read; clipboard-write;\" frameborder=\"0\" allowfullscreen></iframe></div>"
      ],
      "text/plain": [
       "<IPython.core.display.HTML object>"
      ]
     },
     "metadata": {},
     "output_type": "display_data"
    },
    {
     "data": {
      "text/plain": []
     },
     "execution_count": 7,
     "metadata": {},
     "output_type": "execute_result"
    }
   ],
   "source": [
    "# Gradio Interface\n",
    "with gr.Blocks(css=None) as demo:\n",
    "    gr.Markdown(\"# 🌐 **Nestlé HR Policy Chatbot**\", elem_id=\"main-heading\")\n",
    "\n",
    "    with gr.Row():\n",
    "        with gr.Column(scale=2):\n",
    "            pdf_file_input = gr.File(label=\"📄 Upload Nestlé HR Policy PDF\", type=\"filepath\")\n",
    "        with gr.Column(scale=1):\n",
    "            api_key_input = gr.Textbox(label=\"🔑 Enter your OpenAI API key\", type=\"password\", placeholder=\"Your API Key here\")\n",
    "\n",
    "    query_input = gr.Textbox(label=\"❓ Ask a question about Nestle's HR policy\", placeholder=\"Your question here\", lines=3)\n",
    "\n",
    "    query_button = gr.Button(\"Submit\", elem_id=\"submit-btn\")\n",
    "\n",
    "    with gr.Row():\n",
    "        with gr.Column(scale=1):\n",
    "            pdf_statistics_output = gr.JSON(label=\"📊 PDF Statistics\", elem_id=\"pdf-statistics\")\n",
    "        with gr.Column(scale=1):\n",
    "            query_output = gr.Textbox(label=\"📋 Answer\", lines=3, elem_id=\"answer-box\")\n",
    "\n",
    "    with gr.Row():\n",
    "        entities_output = gr.JSON(label=\"📄 Recognized Entities\", elem_id=\"entities-box\")\n",
    "        history_output = gr.Textbox(label=\"📝 Conversation History\", lines=10, elem_id=\"history-box\")\n",
    "\n",
    "    error_output = gr.Textbox(label=\"⚠️ Error Log\", lines=6, elem_id=\"error-log\")\n",
    "\n",
    "    history_state = gr.State([])\n",
    "    seq_num_state = gr.State(1)\n",
    "\n",
    "    def on_submit(pdf_file, api_key, query_text, history, seq_num):\n",
    "        statistics, answer, entities, error_log, history_display, new_seq_num = main(pdf_file, api_key, query_text, history, seq_num)\n",
    "        if error_log:\n",
    "            return {}, \"\", {}, error_log, history_display, new_seq_num\n",
    "        return statistics, answer, entities, \"\", history_display, new_seq_num\n",
    "\n",
    "    query_button.click(on_submit, \n",
    "                       inputs=[pdf_file_input, api_key_input, query_input, history_state, seq_num_state], \n",
    "                       outputs=[pdf_statistics_output, query_output, entities_output, error_output, history_output, seq_num_state])\n",
    "\n",
    "demo.launch()"
   ]
  },
  {
   "cell_type": "code",
   "execution_count": 9,
   "id": "d73ab60b-d3a4-4f7c-a6ad-90c1dbaa862f",
   "metadata": {},
   "outputs": [
    {
     "ename": "SyntaxError",
     "evalue": "invalid syntax (2435724574.py, line 1)",
     "output_type": "error",
     "traceback": [
      "\u001b[0;36m  Cell \u001b[0;32mIn[9], line 1\u001b[0;36m\u001b[0m\n\u001b[0;31m    pip install xelatex\u001b[0m\n\u001b[0m        ^\u001b[0m\n\u001b[0;31mSyntaxError\u001b[0m\u001b[0;31m:\u001b[0m invalid syntax\n"
     ]
    }
   ],
   "source": [
    "pip install xelatex\n",
    "\n"
   ]
  },
  {
   "cell_type": "code",
   "execution_count": 11,
   "id": "94d3e522-99c1-4654-b9c8-6e3a1d764c35",
   "metadata": {},
   "outputs": [
    {
     "ename": "SyntaxError",
     "evalue": "invalid syntax (4080117223.py, line 1)",
     "output_type": "error",
     "traceback": [
      "\u001b[0;36m  Cell \u001b[0;32mIn[11], line 1\u001b[0;36m\u001b[0m\n\u001b[0;31m    codeo install xelatex\u001b[0m\n\u001b[0m          ^\u001b[0m\n\u001b[0;31mSyntaxError\u001b[0m\u001b[0;31m:\u001b[0m invalid syntax\n"
     ]
    }
   ],
   "source": [
    "codeo install xelatex\n"
   ]
  },
  {
   "cell_type": "code",
   "execution_count": null,
   "id": "c98d4147-dfcf-4fec-bc88-2d9a3812df11",
   "metadata": {},
   "outputs": [],
   "source": []
  }
 ],
 "metadata": {
  "kernelspec": {
   "display_name": "Python 3 (ipykernel)",
   "language": "python",
   "name": "python3"
  },
  "language_info": {
   "codemirror_mode": {
    "name": "ipython",
    "version": 3
   },
   "file_extension": ".py",
   "mimetype": "text/x-python",
   "name": "python",
   "nbconvert_exporter": "python",
   "pygments_lexer": "ipython3",
   "version": "3.12.4"
  }
 },
 "nbformat": 4,
 "nbformat_minor": 5
}
